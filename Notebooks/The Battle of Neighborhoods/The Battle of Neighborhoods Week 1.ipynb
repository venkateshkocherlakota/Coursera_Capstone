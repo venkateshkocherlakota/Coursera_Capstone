{
 "cells": [
  {
   "cell_type": "markdown",
   "metadata": {},
   "source": [
    "# The Battle of Neighborhoods - Week 1\n",
    "\n",
    "### Analysis of Neighborhoods of Bangalore for finding out the most favoured Cusines of the people of Bangalore and also a suitable neighborhood"
   ]
  },
  {
   "cell_type": "markdown",
   "metadata": {},
   "source": [
    "## Introduction and Business Problem"
   ]
  },
  {
   "cell_type": "markdown",
   "metadata": {},
   "source": [
    "Hi there. In this section, I would like to give a brief introdcution about what this analysis is about and the Business Problem that is going to be addressed.\n",
    "\n",
    "In modern times, due to the advances in communication, people all around the world have become one big family. Exchanging of information has led to the discovery of each other's culture and also attracted new folks. At present scenario, we have all major cities having people from diverse cultures living. This is an opurtunity for businesses as each group of people have their own preference based on their culture. For this assignment, lets focus on the city of <b>Bangalore</b>.\n",
    "\n",
    "Especially, when it comes to food, we now have different cusines available based on the preference of customers. But the problem now is we have a lot of competition built up as well. Not having a good start might have unexpected results and may also lead to failure.\n",
    "\n",
    "Hence, proper analysis must be done before opening a Restraunt of a particular cusine and also choosing the right location is crucial for success."
   ]
  },
  {
   "cell_type": "markdown",
   "metadata": {},
   "source": [
    "### Background Discussion"
   ]
  },
  {
   "cell_type": "markdown",
   "metadata": {},
   "source": [
    "<p>\n",
    "When thinking of starting a new business, it is important to analyze the market we are stepping into so the business strategies can be fine tuned for best results.<br />\n",
    "Considering Bangalore, <b>the Silicon Valley of India</b> we have people settled there from many cultures and regions.<br/>\n",
    "From this itself we can infer that we would have a wide range of tastes. But then, when entering into the world of Restraunts, its important to find the pulse of people. Knowing which cusines are prefered by majority can help business <b>Pivot</b> accordingly to need while maintaining good results. <br/>\n",
    "\n",
    "Even though we have diverse people residing in Bangalore, it is important to note that the city is still adapting to different cusines. We have foodies who prefer western cusines while some prefer traditional. \n",
    "    \n",
    "Opening a multi-cusine may attract a lot of folks but if deciding to open a restraunt of specific cusine, a lot of factors must be considered.\n",
    "</p>"
   ]
  },
  {
   "cell_type": "markdown",
   "metadata": {},
   "source": [
    "### Description"
   ]
  },
  {
   "cell_type": "markdown",
   "metadata": {},
   "source": [
    "This analysis is structured this way:\n",
    "\n",
    "We would first acquire data about the tastes of \"Bangaloreans\". This is acquired from the below link:\n",
    "https://www.kaggle.com/ngokulakannan/zomato-india-restaurants2-lakh-restaurants-data\n",
    "\n",
    "Its a Kaggle Dataset which has the data about Restraunts and their details such as Rating, Cost for Two and so on from each city within India.\n",
    "\n",
    "Then we would filter out data related to Bangalore to find the most rated restraunts and their cusines.\n",
    "This would give us an insight on the most favoured cusines.\n",
    "\n",
    "Then, using <b>Foursquare API</b>, we can get details about each venue in the neighborhoods of Bangalore.\n",
    "Finally, with the acquired data, we can perform analysis and can have insights on the locations where our chosen cusine can be favoured."
   ]
  }
 ],
 "metadata": {
  "kernelspec": {
   "display_name": "Python 3",
   "language": "python",
   "name": "python3"
  },
  "language_info": {
   "codemirror_mode": {
    "name": "ipython",
    "version": 3
   },
   "file_extension": ".py",
   "mimetype": "text/x-python",
   "name": "python",
   "nbconvert_exporter": "python",
   "pygments_lexer": "ipython3",
   "version": "3.8.1"
  }
 },
 "nbformat": 4,
 "nbformat_minor": 4
}
