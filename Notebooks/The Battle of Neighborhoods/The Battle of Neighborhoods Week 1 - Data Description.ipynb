{
 "cells": [
  {
   "cell_type": "markdown",
   "metadata": {},
   "source": [
    "# The Battle of Neighborhoods - Week 1\n",
    "\n",
    "### Analysis of Neighborhoods of Bangalore for finding out the most favoured Cusines of the people of Bangalore and also a suitable neighborhood"
   ]
  },
  {
   "cell_type": "markdown",
   "metadata": {},
   "source": [
    "### Data Description"
   ]
  },
  {
   "attachments": {},
   "cell_type": "markdown",
   "metadata": {},
   "source": [
    "The data we will be using is from the below dataset:\n",
    "     \n",
    "     https://www.kaggle.com/ngokulakannan/zomato-india-restaurants2-lakh-restaurants-data\n",
    "\n",
    "The dataset has data about all the restraunts and their details such as:\n",
    "    <ul>\n",
    "        <li>name</li>\n",
    "        <li>city</li>\n",
    "        <li>rating</li>\n",
    "        <li>cusine</li>\n",
    "        <li>cost_for_two</li>\n",
    "        <li>longitude</li>\n",
    "        <li>latitude</li>   \n",
    "    </ul>\n",
    "\n",
    "These details can help us understand better about the top cuisines people prefer in Bangalore.\n",
    "\n",
    "Now, after downloading the dataset and importing the required file, we then filter out the city to Bangalore which would then give us data about the restraunts of Bangalore.\n",
    "\n",
    "\n",
    "Then, using Foursquare API, we can get details about each venue in the neighborhoods of Bangalore. Finally, with the acquired data, we can perform analysis and can have insights on the locations where our chosen cusine can be favoured."
   ]
  },
  {
   "attachments": {},
   "cell_type": "markdown",
   "metadata": {},
   "source": [
    "### Sample Data"
   ]
  },
  {
   "cell_type": "markdown",
   "metadata": {},
   "source": [
    "|city|area|rating|rating_count|cusine|cost_for_two|address|online_order|table_reservation|delivery_only|famous_food|longitude|latitude|\n",
    "|----|----|------|------------|------|------------|-------|------------|-----------------|-------------|-----------|---------|--------|\n",
    "|Agra|Civil Lines|4.1|409|North Indian|250|Delhi Gate, Raja Mandi Station Road, Civil Lines, Agra|TRUE|FALSE|FALSE|Dal Makhani , Shahi Paneer , Kadhai Paneer , Kadai Paneer|77.99853019|27.19619778|\n",
    "|Agra|Shahganj|4.2|344|North Indian, South Indian|500|110, Jaipur House Market, Opposite, Commercial Tax Office, Jaipur House Colony, lohmandi, Agra|TRUE|FALSE|FALSE|Kadai Paneer , Panneer Butter Masala , Shahi Paneer , Kadhai Paneer , Dal Makhani|77.9866675|27.188102|"
   ]
  },
  {
   "cell_type": "markdown",
   "metadata": {},
   "source": [
    "From the above sample data, we can see that the dataset provides all important details about the restraunts such as their latitude, longitude, their ratings, cost_for_two and also their cuisines.\n",
    "\n",
    "We can extract these details which help us group similar restraunts around the area leading to better understanding of cuisines liked by people living in a neighborhood."
   ]
  },
  {
   "cell_type": "markdown",
   "metadata": {},
   "source": [
    "### SOme of the features that could be Extracted\n",
    "\n",
    "<ul>\n",
    "    <li>Rating of the restraunt</li>\n",
    "    <li>Cost for Two</li>\n",
    "    <li>Location</li>\n",
    "    <li>Top Cuisines</li>\n",
    "</ul>    \n",
    "\n",
    "And more."
   ]
  }
 ],
 "metadata": {
  "kernelspec": {
   "display_name": "Python 3",
   "language": "python",
   "name": "python3"
  },
  "language_info": {
   "codemirror_mode": {
    "name": "ipython",
    "version": 3
   },
   "file_extension": ".py",
   "mimetype": "text/x-python",
   "name": "python",
   "nbconvert_exporter": "python",
   "pygments_lexer": "ipython3",
   "version": "3.8.1"
  }
 },
 "nbformat": 4,
 "nbformat_minor": 4
}
