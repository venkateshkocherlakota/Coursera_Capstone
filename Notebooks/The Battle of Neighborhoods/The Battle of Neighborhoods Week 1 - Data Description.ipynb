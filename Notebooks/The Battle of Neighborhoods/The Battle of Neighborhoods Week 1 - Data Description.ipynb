{
 "cells": [
  {
   "cell_type": "markdown",
   "metadata": {},
   "source": [
    "# The Battle of Neighborhoods - Week 1\n",
    "\n",
    "### Analysis of Neighborhoods of Bangalore for finding out the most favoured Cusines of the people of Bangalore and also a suitable neighborhood"
   ]
  },
  {
   "cell_type": "markdown",
   "metadata": {},
   "source": [
    "### Data Description"
   ]
  },
  {
   "attachments": {},
   "cell_type": "markdown",
   "metadata": {},
   "source": [
    "The data we will be using is from the below dataset:\n",
    "     \n",
    "     https://www.kaggle.com/ngokulakannan/zomato-india-restaurants2-lakh-restaurants-data\n",
    "\n",
    "The dataset has data about all the restraunts and their details such as:\n",
    "    <ul>\n",
    "        <li>name</li>\n",
    "        <li>city</li>\n",
    "        <li>rating</li>\n",
    "        <li>cusine</li>\n",
    "        <li>cost_for_two</li>\n",
    "        <li>longitude</li>\n",
    "        <li>latitude</li>   \n",
    "    </ul>\n",
    "\n",
    "These details can help us understand better about the top cuisines people prefer in Bangalore.\n",
    "\n",
    "Now, after downloading the dataset and importing the required file, we then filter out the city to Bangalore which would then give us data about the restraunts of Bangalore.\n",
    "\n",
    "\n",
    "Then, using Foursquare API, we can get details about each venue in the neighborhoods of Bangalore. Finally, with the acquired data, we can perform analysis and can have insights on the locations where our chosen cusine can be favoured."
   ]
  },
  {
   "cell_type": "code",
   "execution_count": null,
   "metadata": {},
   "outputs": [],
   "source": []
  }
 ],
 "metadata": {
  "kernelspec": {
   "display_name": "Python 3",
   "language": "python",
   "name": "python3"
  },
  "language_info": {
   "codemirror_mode": {
    "name": "ipython",
    "version": 3
   },
   "file_extension": ".py",
   "mimetype": "text/x-python",
   "name": "python",
   "nbconvert_exporter": "python",
   "pygments_lexer": "ipython3",
   "version": "3.8.1"
  }
 },
 "nbformat": 4,
 "nbformat_minor": 4
}
